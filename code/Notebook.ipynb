{
 "cells": [
  {
   "cell_type": "markdown",
   "metadata": {},
   "source": [
    "Task 1"
   ]
  },
  {
   "cell_type": "code",
   "execution_count": 6,
   "metadata": {},
   "outputs": [
    {
     "ename": "FileNotFoundError",
     "evalue": "[Errno 2] No such file or directory: 'C:\\\\Users\\\\20223821\\\\OneDrive - TU Eindhoven\\\\Documents\\\\BMT\\\\Year 3\\\\Q1\\\\MIA\\\\Project 1\\\\MIA-group-8\\\\code\\\\image_data\\\\1_1_t1.tif'",
     "output_type": "error",
     "traceback": [
      "\u001b[1;31m---------------------------------------------------------------------------\u001b[0m",
      "\u001b[1;31mFileNotFoundError\u001b[0m                         Traceback (most recent call last)",
      "Cell \u001b[1;32mIn[6], line 8\u001b[0m\n\u001b[0;32m      5\u001b[0m I_path \u001b[38;5;241m=\u001b[39m \u001b[38;5;124m'\u001b[39m\u001b[38;5;124mimage_data/1_1_t1.tif\u001b[39m\u001b[38;5;124m'\u001b[39m\n\u001b[0;32m      6\u001b[0m Im_path \u001b[38;5;241m=\u001b[39m \u001b[38;5;124m'\u001b[39m\u001b[38;5;124mimage_data/1_1_t1_d.tif\u001b[39m\u001b[38;5;124m'\u001b[39m\n\u001b[1;32m----> 8\u001b[0m X, Xm \u001b[38;5;241m=\u001b[39m util\u001b[38;5;241m.\u001b[39mcpselect(I_path, Im_path)\n\u001b[0;32m     10\u001b[0m \u001b[38;5;28mprint\u001b[39m(\u001b[38;5;124m'\u001b[39m\u001b[38;5;124mX:\u001b[39m\u001b[38;5;130;01m\\n\u001b[39;00m\u001b[38;5;132;01m{}\u001b[39;00m\u001b[38;5;124m'\u001b[39m\u001b[38;5;241m.\u001b[39mformat(X))\n\u001b[0;32m     11\u001b[0m \u001b[38;5;28mprint\u001b[39m(\u001b[38;5;124m'\u001b[39m\u001b[38;5;124mXm:\u001b[39m\u001b[38;5;130;01m\\n\u001b[39;00m\u001b[38;5;132;01m{}\u001b[39;00m\u001b[38;5;124m'\u001b[39m\u001b[38;5;241m.\u001b[39mformat(Xm))\n",
      "File \u001b[1;32mc:\\Users\\20223821\\OneDrive - TU Eindhoven\\Documents\\BMT\\Year 3\\Q1\\MIA\\Project 1\\MIA-group-8\\code\\registration_util.py:70\u001b[0m, in \u001b[0;36mcpselect\u001b[1;34m(imagePath1, imagePath2)\u001b[0m\n\u001b[0;32m     59\u001b[0m \u001b[38;5;28;01mdef\u001b[39;00m \u001b[38;5;21mcpselect\u001b[39m(imagePath1, imagePath2):\n\u001b[0;32m     60\u001b[0m \t\u001b[38;5;66;03m# Pops up a matplotlib window in which to select control points on the two images given as input.\u001b[39;00m\n\u001b[0;32m     61\u001b[0m \t\u001b[38;5;66;03m#\u001b[39;00m\n\u001b[1;32m   (...)\u001b[0m\n\u001b[0;32m     68\u001b[0m \t\n\u001b[0;32m     69\u001b[0m \t\u001b[38;5;66;03m#load the images\u001b[39;00m\n\u001b[1;32m---> 70\u001b[0m \timage1 \u001b[38;5;241m=\u001b[39m plt\u001b[38;5;241m.\u001b[39mimread(imagePath1)\n\u001b[0;32m     71\u001b[0m \timage2 \u001b[38;5;241m=\u001b[39m plt\u001b[38;5;241m.\u001b[39mimread(imagePath2)\n\u001b[0;32m     73\u001b[0m \t\u001b[38;5;66;03m#ensure that the plot opens in its own window\u001b[39;00m\n",
      "File \u001b[1;32mc:\\Users\\20223821\\.conda\\envs\\8dc00\\Lib\\site-packages\\matplotlib\\pyplot.py:2597\u001b[0m, in \u001b[0;36mimread\u001b[1;34m(fname, format)\u001b[0m\n\u001b[0;32m   2593\u001b[0m \u001b[38;5;129m@_copy_docstring_and_deprecators\u001b[39m(matplotlib\u001b[38;5;241m.\u001b[39mimage\u001b[38;5;241m.\u001b[39mimread)\n\u001b[0;32m   2594\u001b[0m \u001b[38;5;28;01mdef\u001b[39;00m \u001b[38;5;21mimread\u001b[39m(\n\u001b[0;32m   2595\u001b[0m         fname: \u001b[38;5;28mstr\u001b[39m \u001b[38;5;241m|\u001b[39m pathlib\u001b[38;5;241m.\u001b[39mPath \u001b[38;5;241m|\u001b[39m BinaryIO, \u001b[38;5;28mformat\u001b[39m: \u001b[38;5;28mstr\u001b[39m \u001b[38;5;241m|\u001b[39m \u001b[38;5;28;01mNone\u001b[39;00m \u001b[38;5;241m=\u001b[39m \u001b[38;5;28;01mNone\u001b[39;00m\n\u001b[0;32m   2596\u001b[0m ) \u001b[38;5;241m-\u001b[39m\u001b[38;5;241m>\u001b[39m np\u001b[38;5;241m.\u001b[39mndarray:\n\u001b[1;32m-> 2597\u001b[0m     \u001b[38;5;28;01mreturn\u001b[39;00m matplotlib\u001b[38;5;241m.\u001b[39mimage\u001b[38;5;241m.\u001b[39mimread(fname, \u001b[38;5;28mformat\u001b[39m)\n",
      "File \u001b[1;32mc:\\Users\\20223821\\.conda\\envs\\8dc00\\Lib\\site-packages\\matplotlib\\image.py:1544\u001b[0m, in \u001b[0;36mimread\u001b[1;34m(fname, format)\u001b[0m\n\u001b[0;32m   1537\u001b[0m \u001b[38;5;28;01mif\u001b[39;00m \u001b[38;5;28misinstance\u001b[39m(fname, \u001b[38;5;28mstr\u001b[39m) \u001b[38;5;129;01mand\u001b[39;00m \u001b[38;5;28mlen\u001b[39m(parse\u001b[38;5;241m.\u001b[39murlparse(fname)\u001b[38;5;241m.\u001b[39mscheme) \u001b[38;5;241m>\u001b[39m \u001b[38;5;241m1\u001b[39m:\n\u001b[0;32m   1538\u001b[0m     \u001b[38;5;66;03m# Pillow doesn't handle URLs directly.\u001b[39;00m\n\u001b[0;32m   1539\u001b[0m     \u001b[38;5;28;01mraise\u001b[39;00m \u001b[38;5;167;01mValueError\u001b[39;00m(\n\u001b[0;32m   1540\u001b[0m         \u001b[38;5;124m\"\u001b[39m\u001b[38;5;124mPlease open the URL for reading and pass the \u001b[39m\u001b[38;5;124m\"\u001b[39m\n\u001b[0;32m   1541\u001b[0m         \u001b[38;5;124m\"\u001b[39m\u001b[38;5;124mresult to Pillow, e.g. with \u001b[39m\u001b[38;5;124m\"\u001b[39m\n\u001b[0;32m   1542\u001b[0m         \u001b[38;5;124m\"\u001b[39m\u001b[38;5;124m``np.array(PIL.Image.open(urllib.request.urlopen(url)))``.\u001b[39m\u001b[38;5;124m\"\u001b[39m\n\u001b[0;32m   1543\u001b[0m         )\n\u001b[1;32m-> 1544\u001b[0m \u001b[38;5;28;01mwith\u001b[39;00m img_open(fname) \u001b[38;5;28;01mas\u001b[39;00m image:\n\u001b[0;32m   1545\u001b[0m     \u001b[38;5;28;01mreturn\u001b[39;00m (_pil_png_to_float_array(image)\n\u001b[0;32m   1546\u001b[0m             \u001b[38;5;28;01mif\u001b[39;00m \u001b[38;5;28misinstance\u001b[39m(image, PIL\u001b[38;5;241m.\u001b[39mPngImagePlugin\u001b[38;5;241m.\u001b[39mPngImageFile) \u001b[38;5;28;01melse\u001b[39;00m\n\u001b[0;32m   1547\u001b[0m             pil_to_array(image))\n",
      "File \u001b[1;32mc:\\Users\\20223821\\.conda\\envs\\8dc00\\Lib\\site-packages\\PIL\\Image.py:3431\u001b[0m, in \u001b[0;36mopen\u001b[1;34m(fp, mode, formats)\u001b[0m\n\u001b[0;32m   3428\u001b[0m     filename \u001b[38;5;241m=\u001b[39m os\u001b[38;5;241m.\u001b[39mpath\u001b[38;5;241m.\u001b[39mrealpath(os\u001b[38;5;241m.\u001b[39mfspath(fp))\n\u001b[0;32m   3430\u001b[0m \u001b[38;5;28;01mif\u001b[39;00m filename:\n\u001b[1;32m-> 3431\u001b[0m     fp \u001b[38;5;241m=\u001b[39m builtins\u001b[38;5;241m.\u001b[39mopen(filename, \u001b[38;5;124m\"\u001b[39m\u001b[38;5;124mrb\u001b[39m\u001b[38;5;124m\"\u001b[39m)\n\u001b[0;32m   3432\u001b[0m     exclusive_fp \u001b[38;5;241m=\u001b[39m \u001b[38;5;28;01mTrue\u001b[39;00m\n\u001b[0;32m   3433\u001b[0m \u001b[38;5;28;01melse\u001b[39;00m:\n",
      "\u001b[1;31mFileNotFoundError\u001b[0m: [Errno 2] No such file or directory: 'C:\\\\Users\\\\20223821\\\\OneDrive - TU Eindhoven\\\\Documents\\\\BMT\\\\Year 3\\\\Q1\\\\MIA\\\\Project 1\\\\MIA-group-8\\\\code\\\\image_data\\\\1_1_t1.tif'"
     ]
    }
   ],
   "source": [
    "import sys\n",
    "#sys.path.append(\"../code\")\n",
    "import registration_util as util\n",
    "\n",
    "I_path = 'image_data/1_1_t1.tif'\n",
    "Im_path = 'image_data/1_1_t1_d.tif'\n",
    "\n",
    "X, Xm = util.cpselect(I_path, Im_path)\n",
    "\n",
    "print('X:\\n{}'.format(X))\n",
    "print('Xm:\\n{}'.format(Xm))"
   ]
  },
  {
   "cell_type": "markdown",
   "metadata": {},
   "source": [
    "Task 2"
   ]
  },
  {
   "cell_type": "code",
   "execution_count": null,
   "metadata": {},
   "outputs": [],
   "source": [
    "#1) Rigid intensity-based registration of two T1 slices (e.g. 1_1_t1.tif and 1_1_t1_d.tif) using \n",
    "# #normalized cross-correlation as a similarity measure.\n",
    "print('This is experiment 1:')\n",
    "intensity_based_registration_demo(I_path='./image_data/1_1_t1.tif', Im_path='./image_data/1_1_t1_d.tif',\n",
    "                                  mu=0.0005, num_iter=150, rigid=True, corr_metric=\"CC\")\n"
   ]
  },
  {
   "cell_type": "code",
   "execution_count": null,
   "metadata": {},
   "outputs": [],
   "source": [
    "#2) Affine intensity-based registration of two T1 slices (e.g. 1_1_t1.tif and 1_1_t1_d.tif) using \n",
    "# normalized cross-correlation as a similarity measure.\n",
    "print('This is experiment 2')\n",
    "intensity_based_registration_demo(I_path='./image_data/1_1_t1.tif', Im_path='./image_data/1_1_t1_d.tif',mu=0.0005,num_iter=150,rigid=False,corr_metric='CC')\n"
   ]
  },
  {
   "cell_type": "code",
   "execution_count": null,
   "metadata": {},
   "outputs": [],
   "source": [
    "#3) Affine intensity-based registration of a T1 and a T2 slice (e.g. 1_1_t1.tif and 1_1_t2.tif) using \n",
    "# normalized cross-correlation as a similarity measure.\n",
    "print('This is experiment 3')\n",
    "intensity_based_registration_demo(I_path='./image_data/1_1_t1.tif',Im_path='./image_data/1_1_t2.tif',mu=0.005,num_iter=150,rigid=False,corr_metric='CC')"
   ]
  },
  {
   "cell_type": "code",
   "execution_count": null,
   "metadata": {},
   "outputs": [],
   "source": [
    "#4)Affine intensity-based registration of two T1 slices (e.g. 1_1_t1.tif and 1_1_t1_d.tif) using\n",
    "#  mutual information as a similarity measure.\n",
    "print('This is experiment 4')\n",
    "intensity_based_registration_demo(I_path='./image_data/1_1_t1.tif', Im_path='./image_data/1_1_t1_d.tif',mu=0.0005, num_iter=150, rigid=True, corr_metric=\"MI\")"
   ]
  },
  {
   "cell_type": "code",
   "execution_count": 3,
   "metadata": {},
   "outputs": [],
   "source": [
    "#5)Affine intensity-based registration of a T1 slice and a T2 slice (e.g. 1_1_t1.tif and 1_1_t2.tif) using \n",
    "# mutual information as a similarity measure.\n",
    "print('This is experiment 5')\n",
    "intensity_based_registration_demo(I_path='./image_data/1_1_t1.tif', Im_path='./image_data/1_1_t2.tif',mu=0.0005, num_iter=150, rigid=True, corr_metric=\"MI\")\n"
   ]
  },
  {
   "cell_type": "markdown",
   "metadata": {},
   "source": [
    "Analysis:\n"
   ]
  },
  {
   "cell_type": "markdown",
   "metadata": {},
   "source": []
  }
 ],
 "metadata": {
  "kernelspec": {
   "display_name": "8dc00",
   "language": "python",
   "name": "python3"
  },
  "language_info": {
   "codemirror_mode": {
    "name": "ipython",
    "version": 3
   },
   "file_extension": ".py",
   "mimetype": "text/x-python",
   "name": "python",
   "nbconvert_exporter": "python",
   "pygments_lexer": "ipython3",
   "version": "3.12.4"
  }
 },
 "nbformat": 4,
 "nbformat_minor": 2
}
