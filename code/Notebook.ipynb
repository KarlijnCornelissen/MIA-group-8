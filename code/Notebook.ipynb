{
 "cells": [
  {
   "cell_type": "markdown",
   "metadata": {},
   "source": [
    "Task 1"
   ]
  },
  {
   "cell_type": "code",
   "execution_count": 2,
   "metadata": {},
   "outputs": [
    {
     "ename": "ModuleNotFoundError",
     "evalue": "No module named 'registration_util'",
     "output_type": "error",
     "traceback": [
      "\u001b[1;31m---------------------------------------------------------------------------\u001b[0m",
      "\u001b[1;31mModuleNotFoundError\u001b[0m                       Traceback (most recent call last)",
      "Cell \u001b[1;32mIn[2], line 3\u001b[0m\n\u001b[0;32m      1\u001b[0m \u001b[38;5;28;01mimport\u001b[39;00m \u001b[38;5;21;01msys\u001b[39;00m\n\u001b[0;32m      2\u001b[0m sys\u001b[38;5;241m.\u001b[39mpath\u001b[38;5;241m.\u001b[39mappend(\u001b[38;5;124m\"\u001b[39m\u001b[38;5;124m../code\u001b[39m\u001b[38;5;124m\"\u001b[39m)\n\u001b[1;32m----> 3\u001b[0m \u001b[38;5;28;01mimport\u001b[39;00m \u001b[38;5;21;01mregistration_util\u001b[39;00m\u001b[38;5;21;01m.\u001b[39;00m\u001b[38;5;21;01mpy\u001b[39;00m \u001b[38;5;28;01mas\u001b[39;00m \u001b[38;5;21;01mutil\u001b[39;00m\n\u001b[0;32m      5\u001b[0m I_path \u001b[38;5;241m=\u001b[39m \u001b[38;5;124m'\u001b[39m\u001b[38;5;124m../data/image_data/1_1_t1.tif\u001b[39m\u001b[38;5;124m'\u001b[39m\n\u001b[0;32m      6\u001b[0m Im_path \u001b[38;5;241m=\u001b[39m \u001b[38;5;124m'\u001b[39m\u001b[38;5;124m../data/image_data/1_1_t1_d.tif\u001b[39m\u001b[38;5;124m'\u001b[39m\n",
      "\u001b[1;31mModuleNotFoundError\u001b[0m: No module named 'registration_util'"
     ]
    }
   ],
   "source": [
    "import sys\n",
    "sys.path.append(\"../code\")\n",
    "import registration_util.py as util\n",
    "\n",
    "I_path = '../data/image_data/1_1_t1.tif'\n",
    "Im_path = '../data/image_data/1_1_t1_d.tif'\n",
    "\n",
    "X, Xm = util.cpselect(I_path, Im_path)\n",
    "\n",
    "print('X:\\n{}'.format(X))\n",
    "print('Xm:\\n{}'.format(Xm))"
   ]
  },
  {
   "cell_type": "markdown",
   "metadata": {},
   "source": [
    "Task 2"
   ]
  },
  {
   "cell_type": "code",
   "execution_count": null,
   "metadata": {},
   "outputs": [],
   "source": [
    "#1) Rigid intensity-based registration of two T1 slices (e.g. 1_1_t1.tif and 1_1_t1_d.tif) using \n",
    "# #normalized cross-correlation as a similarity measure.\n",
    "print('This is experiment 1:')\n",
    "intensity_based_registration_demo(I_path='./image_data/1_1_t1.tif', Im_path='./image_data/1_1_t1_d.tif',\n",
    "                                  mu=0.0005, num_iter=150, rigid=True, corr_metric=\"CC\")\n"
   ]
  },
  {
   "cell_type": "code",
   "execution_count": null,
   "metadata": {},
   "outputs": [],
   "source": [
    "#2) Affine intensity-based registration of two T1 slices (e.g. 1_1_t1.tif and 1_1_t1_d.tif) using \n",
    "# normalized cross-correlation as a similarity measure.\n",
    "print('This is experiment 2')\n",
    "intensity_based_registration_demo(I_path='./image_data/1_1_t1.tif', Im_path='./image_data/1_1_t1_d.tif',mu=0.0005,num_iter=150,rigid=False,corr_metric='CC')\n"
   ]
  },
  {
   "cell_type": "code",
   "execution_count": null,
   "metadata": {},
   "outputs": [],
   "source": [
    "#3) Affine intensity-based registration of a T1 and a T2 slice (e.g. 1_1_t1.tif and 1_1_t2.tif) using \n",
    "# normalized cross-correlation as a similarity measure.\n",
    "print('This is experiment 3')\n",
    "intensity_based_registration_demo(I_path='./image_data/1_1_t1.tif',Im_path='./image_data/1_1_t2.tif',mu=0.005,num_iter=150,rigid=False,corr_metric='CC')"
   ]
  },
  {
   "cell_type": "code",
   "execution_count": null,
   "metadata": {},
   "outputs": [],
   "source": [
    "#4)Affine intensity-based registration of two T1 slices (e.g. 1_1_t1.tif and 1_1_t1_d.tif) using\n",
    "#  mutual information as a similarity measure.\n",
    "print('This is experiment 4')\n",
    "intensity_based_registration_demo(I_path='./image_data/1_1_t1.tif', Im_path='./image_data/1_1_t1_d.tif',mu=0.0005, num_iter=150, rigid=True, corr_metric=\"MI\")"
   ]
  },
  {
   "cell_type": "code",
   "execution_count": 3,
   "metadata": {},
   "outputs": [],
   "source": [
    "#5)Affine intensity-based registration of a T1 slice and a T2 slice (e.g. 1_1_t1.tif and 1_1_t2.tif) using \n",
    "# mutual information as a similarity measure.\n",
    "print('This is experiment 5')\n",
    "intensity_based_registration_demo(I_path='./image_data/1_1_t1.tif', Im_path='./image_data/1_1_t2.tif',mu=0.0005, num_iter=150, rigid=True, corr_metric=\"MI\")\n"
   ]
  },
  {
   "cell_type": "markdown",
   "metadata": {},
   "source": [
    "Analysis:\n"
   ]
  },
  {
   "cell_type": "markdown",
   "metadata": {},
   "source": []
  }
 ],
 "metadata": {
  "kernelspec": {
   "display_name": "8dc00",
   "language": "python",
   "name": "python3"
  },
  "language_info": {
   "codemirror_mode": {
    "name": "ipython",
    "version": 3
   },
   "file_extension": ".py",
   "mimetype": "text/x-python",
   "name": "python",
   "nbconvert_exporter": "python",
   "pygments_lexer": "ipython3",
   "version": "3.12.4"
  }
 },
 "nbformat": 4,
 "nbformat_minor": 2
}
